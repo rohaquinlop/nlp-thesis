{
 "cells": [
  {
   "cell_type": "code",
   "execution_count": 1,
   "metadata": {},
   "outputs": [],
   "source": [
    "import json\n",
    "import pandas as pd\n",
    "from sumy.nlp.stemmers import (\n",
    "  Stemmer,\n",
    ")\n",
    "from sumy.nlp.tokenizers import (\n",
    "  Tokenizer,\n",
    ")\n",
    "from sumy.parsers.plaintext import (\n",
    "  PlaintextParser,\n",
    ")\n",
    "from sumy.utils import (\n",
    "  get_stop_words,\n",
    ")\n",
    "from utils.metrics import (\n",
    "  get_rouge_scores,\n",
    ")\n",
    "from utils.summarizer import (\n",
    "  TestSummarizer,\n",
    "  LevenshteinSummarizer,\n",
    ")\n",
    "from utils.visualizations import (\n",
    "  draw_matrix,\n",
    ")"
   ]
  },
  {
   "cell_type": "code",
   "execution_count": 2,
   "metadata": {},
   "outputs": [],
   "source": [
    "df = pd.read_excel('data/business_articles.xlsx')"
   ]
  },
  {
   "cell_type": "code",
   "execution_count": 3,
   "metadata": {},
   "outputs": [],
   "source": [
    "LANGUAGE=\"english\"\n",
    "SENTENCES_COUNT=4"
   ]
  },
  {
   "cell_type": "code",
   "execution_count": 4,
   "metadata": {},
   "outputs": [],
   "source": [
    "text = df[\"Article\"][0]"
   ]
  },
  {
   "cell_type": "code",
   "execution_count": 5,
   "metadata": {},
   "outputs": [],
   "source": [
    "parser = PlaintextParser.from_string(text, Tokenizer(LANGUAGE))\n",
    "stemmer = Stemmer(LANGUAGE)"
   ]
  },
  {
   "cell_type": "code",
   "execution_count": 6,
   "metadata": {},
   "outputs": [],
   "source": [
    "summarizer = TestSummarizer(stemmer)\n",
    "summarizer.stop_words = get_stop_words(LANGUAGE)"
   ]
  },
  {
   "cell_type": "code",
   "execution_count": 7,
   "metadata": {},
   "outputs": [],
   "source": [
    "summary = summarizer(parser.document, SENTENCES_COUNT)"
   ]
  },
  {
   "cell_type": "code",
   "execution_count": 8,
   "metadata": {},
   "outputs": [],
   "source": [
    "matrix = summarizer.create_matrix(parser.document, SENTENCES_COUNT)"
   ]
  },
  {
   "cell_type": "code",
   "execution_count": 9,
   "metadata": {},
   "outputs": [
    {
     "data": {
      "text/plain": [
       "array([[0.33333333, 0.33333333, 0.        , 0.        , 0.33333333,\n",
       "        0.        , 0.        , 0.        , 0.        , 0.        ,\n",
       "        0.        , 0.        , 0.        , 0.        , 0.        ,\n",
       "        0.        , 0.        ],\n",
       "       [0.25      , 0.25      , 0.        , 0.        , 0.25      ,\n",
       "        0.        , 0.        , 0.        , 0.        , 0.        ,\n",
       "        0.        , 0.        , 0.        , 0.        , 0.        ,\n",
       "        0.        , 0.25      ],\n",
       "       [0.        , 0.        , 0.14285714, 0.        , 0.        ,\n",
       "        0.        , 0.14285714, 0.14285714, 0.        , 0.        ,\n",
       "        0.        , 0.14285714, 0.14285714, 0.14285714, 0.        ,\n",
       "        0.        , 0.14285714],\n",
       "       [0.        , 0.        , 0.        , 1.        , 0.        ,\n",
       "        0.        , 0.        , 0.        , 0.        , 0.        ,\n",
       "        0.        , 0.        , 0.        , 0.        , 0.        ,\n",
       "        0.        , 0.        ],\n",
       "       [0.2       , 0.2       , 0.        , 0.        , 0.2       ,\n",
       "        0.2       , 0.        , 0.        , 0.        , 0.        ,\n",
       "        0.        , 0.        , 0.        , 0.        , 0.        ,\n",
       "        0.        , 0.2       ],\n",
       "       [0.        , 0.        , 0.        , 0.        , 0.33333333,\n",
       "        0.33333333, 0.        , 0.        , 0.        , 0.        ,\n",
       "        0.        , 0.33333333, 0.        , 0.        , 0.        ,\n",
       "        0.        , 0.        ],\n",
       "       [0.        , 0.        , 0.25      , 0.        , 0.        ,\n",
       "        0.        , 0.25      , 0.25      , 0.        , 0.        ,\n",
       "        0.        , 0.25      , 0.        , 0.        , 0.        ,\n",
       "        0.        , 0.        ],\n",
       "       [0.        , 0.        , 0.2       , 0.        , 0.        ,\n",
       "        0.        , 0.2       , 0.2       , 0.2       , 0.        ,\n",
       "        0.        , 0.2       , 0.        , 0.        , 0.        ,\n",
       "        0.        , 0.        ],\n",
       "       [0.        , 0.        , 0.        , 0.        , 0.        ,\n",
       "        0.        , 0.        , 0.33333333, 0.33333333, 0.        ,\n",
       "        0.33333333, 0.        , 0.        , 0.        , 0.        ,\n",
       "        0.        , 0.        ],\n",
       "       [0.        , 0.        , 0.        , 0.        , 0.        ,\n",
       "        0.        , 0.        , 0.        , 0.        , 1.        ,\n",
       "        0.        , 0.        , 0.        , 0.        , 0.        ,\n",
       "        0.        , 0.        ],\n",
       "       [0.        , 0.        , 0.        , 0.        , 0.        ,\n",
       "        0.        , 0.        , 0.        , 0.33333333, 0.        ,\n",
       "        0.33333333, 0.33333333, 0.        , 0.        , 0.        ,\n",
       "        0.        , 0.        ],\n",
       "       [0.        , 0.        , 0.14285714, 0.        , 0.        ,\n",
       "        0.14285714, 0.14285714, 0.14285714, 0.        , 0.        ,\n",
       "        0.14285714, 0.14285714, 0.14285714, 0.        , 0.        ,\n",
       "        0.        , 0.        ],\n",
       "       [0.        , 0.        , 0.2       , 0.        , 0.        ,\n",
       "        0.        , 0.        , 0.        , 0.        , 0.        ,\n",
       "        0.        , 0.2       , 0.2       , 0.2       , 0.        ,\n",
       "        0.2       , 0.        ],\n",
       "       [0.        , 0.        , 0.33333333, 0.        , 0.        ,\n",
       "        0.        , 0.        , 0.        , 0.        , 0.        ,\n",
       "        0.        , 0.        , 0.33333333, 0.33333333, 0.        ,\n",
       "        0.        , 0.        ],\n",
       "       [0.        , 0.        , 0.        , 0.        , 0.        ,\n",
       "        0.        , 0.        , 0.        , 0.        , 0.        ,\n",
       "        0.        , 0.        , 0.        , 0.        , 1.        ,\n",
       "        0.        , 0.        ],\n",
       "       [0.        , 0.        , 0.        , 0.        , 0.        ,\n",
       "        0.        , 0.        , 0.        , 0.        , 0.        ,\n",
       "        0.        , 0.        , 0.5       , 0.        , 0.        ,\n",
       "        0.5       , 0.        ],\n",
       "       [0.        , 0.25      , 0.25      , 0.        , 0.25      ,\n",
       "        0.        , 0.        , 0.        , 0.        , 0.        ,\n",
       "        0.        , 0.        , 0.        , 0.        , 0.        ,\n",
       "        0.        , 0.25      ]])"
      ]
     },
     "execution_count": 9,
     "metadata": {},
     "output_type": "execute_result"
    }
   ],
   "source": [
    "matrix"
   ]
  },
  {
   "cell_type": "code",
   "execution_count": 10,
   "metadata": {},
   "outputs": [],
   "source": [
    "sentences_words = summarizer.get_sentences_words(parser.document)"
   ]
  },
  {
   "cell_type": "code",
   "execution_count": 11,
   "metadata": {},
   "outputs": [],
   "source": [
    "sentences = list(map(lambda s: \" \".join(s), sentences_words))"
   ]
  },
  {
   "cell_type": "code",
   "execution_count": 12,
   "metadata": {},
   "outputs": [
    {
     "data": {
      "text/plain": [
       "['uk economi face risk',\n",
       " 'the uk manufactur sector will continu to face serious challeng over the next two year the british chamber of commerc bcc has said',\n",
       " 'the group quarter survey of compani found export had pick up in the last three month of to their best level in eight year',\n",
       " 'the rise came despit exchang rate be cite as a major concern',\n",
       " 'howev the bcc found the whole uk economi still face major risk and warn that growth is set to slow',\n",
       " 'it recent forecast econom growth will slow from more than in to a littl below in both and',\n",
       " 'manufactur domest sale growth fell back slight in the quarter the survey of firm found',\n",
       " 'employ in manufactur also fell and job expect were at their lowest level for a year',\n",
       " 'despit some posit news for the export sector there are worri sign for manufactur the bcc said',\n",
       " 'these result reinforc our concern over the sector persist inabl to sustain recoveri',\n",
       " 'the outlook for the servic sector was uncertain despit an increas in export and order over the quarter the bcc note',\n",
       " 'the bcc found confid increas in the quarter across both the manufactur and servic sector although overal it fail to reach the level at the start of',\n",
       " 'the reduc threat of interest rate increas had contribut to improv confid it said',\n",
       " 'the bank of england rais interest rate five time between novemb and august last year',\n",
       " 'but rate have been kept on hold sinc then amid sign of fall consum confid and a slowdown in output',\n",
       " 'the pressur on cost and margin the relentless increas in regul and the threat of higher tax remain serious problem bcc director general david frost said',\n",
       " 'while consum spend is set to deceler signific over the next month it is unlik that invest and export will rise suffici strong to pick up the slack']"
      ]
     },
     "execution_count": 12,
     "metadata": {},
     "output_type": "execute_result"
    }
   ],
   "source": [
    "sentences"
   ]
  },
  {
   "cell_type": "code",
   "execution_count": 13,
   "metadata": {},
   "outputs": [],
   "source": [
    "draw_matrix(matrix, image_name=\"test_matrix_graph\")"
   ]
  },
  {
   "cell_type": "markdown",
   "metadata": {},
   "source": [
    "# Levenshtein Summarizer"
   ]
  },
  {
   "cell_type": "markdown",
   "metadata": {},
   "source": [
    "### Data Preprocessing"
   ]
  },
  {
   "cell_type": "code",
   "execution_count": 14,
   "metadata": {},
   "outputs": [],
   "source": [
    "summarizer = LevenshteinSummarizer(stemmer)\n",
    "summarizer.stop_words = get_stop_words(LANGUAGE)"
   ]
  },
  {
   "cell_type": "code",
   "execution_count": 15,
   "metadata": {},
   "outputs": [],
   "source": [
    "summary = summarizer(parser.document, SENTENCES_COUNT)"
   ]
  },
  {
   "cell_type": "code",
   "execution_count": 16,
   "metadata": {},
   "outputs": [],
   "source": [
    "matrix = summarizer.create_matrix(parser.document)"
   ]
  },
  {
   "cell_type": "code",
   "execution_count": 17,
   "metadata": {},
   "outputs": [
    {
     "data": {
      "text/plain": [
       "array([[ 1.        , -1.0625    , -0.3       , -0.25      , -0.77083333,\n",
       "        -0.20833333, -0.8125    , -1.125     , -0.625     , -0.6875    ,\n",
       "        -0.17261905, -0.5       , -0.5375    , -0.6875    , -0.0625    ,\n",
       "        -0.3125    , -0.35416667],\n",
       "       [-1.0625    ,  1.        , -0.66356108, -0.92361111, -0.48416667,\n",
       "        -0.55555556, -0.79603175, -0.40625   , -0.6372549 , -0.4709707 ,\n",
       "        -0.47562358, -0.61086957, -0.76955782, -0.19047619, -0.70714286,\n",
       "        -0.66873706, -0.7826087 ],\n",
       "       [-0.3       , -0.66356108,  1.        , -0.89583333, -0.36416667,\n",
       "        -0.42645503, -0.66      , -0.87127976, -0.43529412, -0.55769231,\n",
       "        -0.49206349, -0.60138889, -0.85357143, -0.47619048, -0.50583333,\n",
       "        -0.58055556, -0.625     ],\n",
       "       [-0.25      , -0.92361111, -0.89583333,  1.        , -0.46805556,\n",
       "        -0.72222222, -0.90972222, -0.42777778, -0.65277778, -0.6359127 ,\n",
       "        -0.55416667, -0.44444444, -0.5577381 , -0.78055556, -0.58333333,\n",
       "        -0.47222222, -0.81944444],\n",
       "       [-0.77083333, -0.48416667, -0.36416667, -0.46805556,  1.        ,\n",
       "        -0.68981481, -0.57222222, -0.52604167, -0.28137255, -0.52564103,\n",
       "        -0.42166667, -0.45833333, -0.69880952, -0.30666667, -0.49583333,\n",
       "        -0.46630952, -0.57869048],\n",
       "       [-0.20833333, -0.55555556, -0.42645503, -0.72222222, -0.68981481,\n",
       "         1.        , -0.61666667, -1.078125  , -0.58823529, -0.91666667,\n",
       "        -0.76851852, -0.65462963, -0.58690476, -0.7       , -0.49907407,\n",
       "        -0.81203704, -0.5712963 ],\n",
       "       [-0.8125    , -0.79603175, -0.66      , -0.90972222, -0.57222222,\n",
       "        -0.61666667,  1.        , -0.85      , -0.38333333, -0.73333333,\n",
       "        -1.        , -0.65777778, -0.69880952, -0.60714286, -0.42555556,\n",
       "        -0.97777778, -0.53555556],\n",
       "       [-1.125     , -0.40625   , -0.87127976, -0.42777778, -0.52604167,\n",
       "        -1.078125  , -0.85      ,  1.        , -0.425     , -0.44166667,\n",
       "        -0.80104167, -0.73229167, -0.69880952, -0.84666667, -0.71875   ,\n",
       "        -0.72395833, -0.69791667],\n",
       "       [-0.625     , -0.6372549 , -0.43529412, -0.65277778, -0.28137255,\n",
       "        -0.58823529, -0.38333333, -0.425     ,  1.        , -0.35641026,\n",
       "        -0.4745098 , -0.57352941, -0.57857143, -0.55      , -0.34313725,\n",
       "        -0.44117647, -0.41372549],\n",
       "       [-0.6875    , -0.4709707 , -0.55769231, -0.6359127 , -0.52564103,\n",
       "        -0.91666667, -0.73333333, -0.44166667, -0.35641026,  1.        ,\n",
       "        -0.44230769, -0.25512821, -0.57362637, -0.72948718, -0.71794872,\n",
       "        -0.52747253, -0.68205128],\n",
       "       [-0.17261905, -0.47562358, -0.49206349, -0.55416667, -0.42166667,\n",
       "        -0.76851852, -1.        , -0.80104167, -0.4745098 , -0.44230769,\n",
       "         1.        , -0.73015873, -0.41547619, -0.27777778, -0.54047619,\n",
       "        -0.26613757, -0.52380952],\n",
       "       [-0.5       , -0.61086957, -0.60138889, -0.44444444, -0.45833333,\n",
       "        -0.65462963, -0.65777778, -0.73229167, -0.57352941, -0.25512821,\n",
       "        -0.73015873,  1.        , -0.4122449 , -0.46666667, -0.84166667,\n",
       "        -0.53946886, -0.51393298],\n",
       "       [-0.5375    , -0.76955782, -0.85357143, -0.5577381 , -0.69880952,\n",
       "        -0.58690476, -0.69880952, -0.69880952, -0.57857143, -0.57362637,\n",
       "        -0.41547619, -0.4122449 ,  1.        , -0.72619048, -0.63095238,\n",
       "        -0.55357143, -0.25527211],\n",
       "       [-0.6875    , -0.19047619, -0.47619048, -0.78055556, -0.30666667,\n",
       "        -0.7       , -0.60714286, -0.84666667, -0.55      , -0.72948718,\n",
       "        -0.27777778, -0.46666667, -0.72619048,  1.        , -0.41666667,\n",
       "        -0.35777778, -0.77222222],\n",
       "       [-0.0625    , -0.70714286, -0.50583333, -0.58333333, -0.49583333,\n",
       "        -0.49907407, -0.42555556, -0.71875   , -0.34313725, -0.71794872,\n",
       "        -0.54047619, -0.84166667, -0.63095238, -0.41666667,  1.        ,\n",
       "        -0.60416667, -0.75666667],\n",
       "       [-0.3125    , -0.66873706, -0.58055556, -0.47222222, -0.46630952,\n",
       "        -0.81203704, -0.97777778, -0.72395833, -0.44117647, -0.52747253,\n",
       "        -0.26613757, -0.53946886, -0.55357143, -0.35777778, -0.60416667,\n",
       "         1.        , -0.59363553],\n",
       "       [-0.35416667, -0.7826087 , -0.625     , -0.81944444, -0.57869048,\n",
       "        -0.5712963 , -0.53555556, -0.69791667, -0.41372549, -0.68205128,\n",
       "        -0.52380952, -0.51393298, -0.25527211, -0.77222222, -0.75666667,\n",
       "        -0.59363553,  1.        ]])"
      ]
     },
     "execution_count": 17,
     "metadata": {},
     "output_type": "execute_result"
    }
   ],
   "source": [
    "matrix"
   ]
  },
  {
   "cell_type": "code",
   "execution_count": 18,
   "metadata": {},
   "outputs": [],
   "source": [
    "sentences_words = summarizer.get_sentences_words(parser.document)"
   ]
  },
  {
   "cell_type": "code",
   "execution_count": 19,
   "metadata": {},
   "outputs": [],
   "source": [
    "sentences = list(map(lambda s: \" \".join(s), sentences_words))"
   ]
  },
  {
   "cell_type": "code",
   "execution_count": 20,
   "metadata": {},
   "outputs": [
    {
     "data": {
      "text/plain": [
       "['uk economi face risk',\n",
       " 'the uk manufactur sector will continu to face serious challeng over the next two year the british chamber of commerc bcc has said',\n",
       " 'the group quarter survey of compani found export had pick up in the last three month of to their best level in eight year',\n",
       " 'the rise came despit exchang rate be cite as a major concern',\n",
       " 'howev the bcc found the whole uk economi still face major risk and warn that growth is set to slow',\n",
       " 'it recent forecast econom growth will slow from more than in to a littl below in both and',\n",
       " 'manufactur domest sale growth fell back slight in the quarter the survey of firm found',\n",
       " 'employ in manufactur also fell and job expect were at their lowest level for a year',\n",
       " 'despit some posit news for the export sector there are worri sign for manufactur the bcc said',\n",
       " 'these result reinforc our concern over the sector persist inabl to sustain recoveri',\n",
       " 'the outlook for the servic sector was uncertain despit an increas in export and order over the quarter the bcc note',\n",
       " 'the bcc found confid increas in the quarter across both the manufactur and servic sector although overal it fail to reach the level at the start of',\n",
       " 'the reduc threat of interest rate increas had contribut to improv confid it said',\n",
       " 'the bank of england rais interest rate five time between novemb and august last year',\n",
       " 'but rate have been kept on hold sinc then amid sign of fall consum confid and a slowdown in output',\n",
       " 'the pressur on cost and margin the relentless increas in regul and the threat of higher tax remain serious problem bcc director general david frost said',\n",
       " 'while consum spend is set to deceler signific over the next month it is unlik that invest and export will rise suffici strong to pick up the slack']"
      ]
     },
     "execution_count": 20,
     "metadata": {},
     "output_type": "execute_result"
    }
   ],
   "source": [
    "sentences"
   ]
  },
  {
   "cell_type": "code",
   "execution_count": 21,
   "metadata": {},
   "outputs": [],
   "source": [
    "draw_matrix(matrix, image_name=\"levenshtein_matrix_graph\")"
   ]
  },
  {
   "cell_type": "code",
   "execution_count": 22,
   "metadata": {},
   "outputs": [],
   "source": [
    "summary_result = \"\"\n",
    "for sentence in summary:\n",
    "    if summary_result != \"\":\n",
    "        summary_result += \" \"\n",
    "    summary_result += sentence._text"
   ]
  },
  {
   "cell_type": "code",
   "execution_count": 23,
   "metadata": {},
   "outputs": [
    {
     "name": "stdout",
     "output_type": "stream",
     "text": [
      "{\n",
      "  \"rouge-1\": {\n",
      "    \"r\": 0.4166666666666667,\n",
      "    \"p\": 0.7142857142857143,\n",
      "    \"f\": 0.5263157848199447\n",
      "  },\n",
      "  \"rouge-2\": {\n",
      "    \"r\": 0.2890625,\n",
      "    \"p\": 0.578125,\n",
      "    \"f\": 0.38541666222222226\n",
      "  },\n",
      "  \"rouge-l\": {\n",
      "    \"r\": 0.40625,\n",
      "    \"p\": 0.6964285714285714,\n",
      "    \"f\": 0.5131578900831026\n",
      "  }\n",
      "}\n"
     ]
    }
   ],
   "source": [
    "print(json.dumps(get_rouge_scores(summary_result, df[\"Summary\"][0]), indent=2))"
   ]
  },
  {
   "cell_type": "code",
   "execution_count": null,
   "metadata": {},
   "outputs": [],
   "source": []
  }
 ],
 "metadata": {
  "kernelspec": {
   "display_name": "venv",
   "language": "python",
   "name": "python3"
  },
  "language_info": {
   "codemirror_mode": {
    "name": "ipython",
    "version": 3
   },
   "file_extension": ".py",
   "mimetype": "text/x-python",
   "name": "python",
   "nbconvert_exporter": "python",
   "pygments_lexer": "ipython3",
   "version": "3.11.3"
  },
  "orig_nbformat": 4
 },
 "nbformat": 4,
 "nbformat_minor": 2
}
