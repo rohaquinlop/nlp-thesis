{
 "cells": [
  {
   "cell_type": "code",
   "execution_count": 1,
   "metadata": {},
   "outputs": [],
   "source": [
    "import pandas as pd\n",
    "from sumy.nlp.stemmers import (\n",
    "  Stemmer,\n",
    ")\n",
    "from sumy.nlp.tokenizers import (\n",
    "  Tokenizer,\n",
    ")\n",
    "from sumy.parsers.plaintext import (\n",
    "  PlaintextParser,\n",
    ")\n",
    "from sumy.utils import (\n",
    "  get_stop_words,\n",
    ")\n",
    "from utils.metrics import (\n",
    "  get_rouge_scores,\n",
    ")\n",
    "from utils.summarizer import (\n",
    "  TestSummarizer\n",
    ")\n",
    "from utils.visualizations import (\n",
    "  draw_matrix,\n",
    ")"
   ]
  },
  {
   "cell_type": "code",
   "execution_count": 2,
   "metadata": {},
   "outputs": [],
   "source": [
    "df = pd.read_excel('data/business_articles.xlsx')"
   ]
  },
  {
   "cell_type": "code",
   "execution_count": 3,
   "metadata": {},
   "outputs": [],
   "source": [
    "LANGUAGE=\"english\"\n",
    "SENTENCES_COUNT=4"
   ]
  },
  {
   "cell_type": "code",
   "execution_count": 4,
   "metadata": {},
   "outputs": [],
   "source": [
    "text = df[\"Article\"][0]"
   ]
  },
  {
   "cell_type": "code",
   "execution_count": 5,
   "metadata": {},
   "outputs": [],
   "source": [
    "parser = PlaintextParser.from_string(text, Tokenizer(LANGUAGE))\n",
    "stemmer = Stemmer(LANGUAGE)"
   ]
  },
  {
   "cell_type": "code",
   "execution_count": 6,
   "metadata": {},
   "outputs": [],
   "source": [
    "summarizer = TestSummarizer(stemmer)\n",
    "summarizer.stop_words = get_stop_words(LANGUAGE)"
   ]
  },
  {
   "cell_type": "code",
   "execution_count": 7,
   "metadata": {},
   "outputs": [],
   "source": [
    "summary = summarizer(parser.document, SENTENCES_COUNT)"
   ]
  },
  {
   "cell_type": "code",
   "execution_count": 8,
   "metadata": {},
   "outputs": [],
   "source": [
    "matrix = summarizer.create_matrix(parser.document, SENTENCES_COUNT)"
   ]
  },
  {
   "cell_type": "code",
   "execution_count": 9,
   "metadata": {},
   "outputs": [
    {
     "data": {
      "text/plain": [
       "array([[0.33333333, 0.33333333, 0.        , 0.        , 0.33333333,\n",
       "        0.        , 0.        , 0.        , 0.        , 0.        ,\n",
       "        0.        , 0.        , 0.        , 0.        , 0.        ,\n",
       "        0.        , 0.        ],\n",
       "       [0.25      , 0.25      , 0.        , 0.        , 0.25      ,\n",
       "        0.        , 0.        , 0.        , 0.        , 0.        ,\n",
       "        0.        , 0.        , 0.        , 0.        , 0.        ,\n",
       "        0.        , 0.25      ],\n",
       "       [0.        , 0.        , 0.14285714, 0.        , 0.        ,\n",
       "        0.        , 0.14285714, 0.14285714, 0.        , 0.        ,\n",
       "        0.        , 0.14285714, 0.14285714, 0.14285714, 0.        ,\n",
       "        0.        , 0.14285714],\n",
       "       [0.        , 0.        , 0.        , 1.        , 0.        ,\n",
       "        0.        , 0.        , 0.        , 0.        , 0.        ,\n",
       "        0.        , 0.        , 0.        , 0.        , 0.        ,\n",
       "        0.        , 0.        ],\n",
       "       [0.2       , 0.2       , 0.        , 0.        , 0.2       ,\n",
       "        0.2       , 0.        , 0.        , 0.        , 0.        ,\n",
       "        0.        , 0.        , 0.        , 0.        , 0.        ,\n",
       "        0.        , 0.2       ],\n",
       "       [0.        , 0.        , 0.        , 0.        , 0.33333333,\n",
       "        0.33333333, 0.        , 0.        , 0.        , 0.        ,\n",
       "        0.        , 0.33333333, 0.        , 0.        , 0.        ,\n",
       "        0.        , 0.        ],\n",
       "       [0.        , 0.        , 0.25      , 0.        , 0.        ,\n",
       "        0.        , 0.25      , 0.25      , 0.        , 0.        ,\n",
       "        0.        , 0.25      , 0.        , 0.        , 0.        ,\n",
       "        0.        , 0.        ],\n",
       "       [0.        , 0.        , 0.2       , 0.        , 0.        ,\n",
       "        0.        , 0.2       , 0.2       , 0.2       , 0.        ,\n",
       "        0.        , 0.2       , 0.        , 0.        , 0.        ,\n",
       "        0.        , 0.        ],\n",
       "       [0.        , 0.        , 0.        , 0.        , 0.        ,\n",
       "        0.        , 0.        , 0.33333333, 0.33333333, 0.        ,\n",
       "        0.33333333, 0.        , 0.        , 0.        , 0.        ,\n",
       "        0.        , 0.        ],\n",
       "       [0.        , 0.        , 0.        , 0.        , 0.        ,\n",
       "        0.        , 0.        , 0.        , 0.        , 1.        ,\n",
       "        0.        , 0.        , 0.        , 0.        , 0.        ,\n",
       "        0.        , 0.        ],\n",
       "       [0.        , 0.        , 0.        , 0.        , 0.        ,\n",
       "        0.        , 0.        , 0.        , 0.33333333, 0.        ,\n",
       "        0.33333333, 0.33333333, 0.        , 0.        , 0.        ,\n",
       "        0.        , 0.        ],\n",
       "       [0.        , 0.        , 0.14285714, 0.        , 0.        ,\n",
       "        0.14285714, 0.14285714, 0.14285714, 0.        , 0.        ,\n",
       "        0.14285714, 0.14285714, 0.14285714, 0.        , 0.        ,\n",
       "        0.        , 0.        ],\n",
       "       [0.        , 0.        , 0.2       , 0.        , 0.        ,\n",
       "        0.        , 0.        , 0.        , 0.        , 0.        ,\n",
       "        0.        , 0.2       , 0.2       , 0.2       , 0.        ,\n",
       "        0.2       , 0.        ],\n",
       "       [0.        , 0.        , 0.33333333, 0.        , 0.        ,\n",
       "        0.        , 0.        , 0.        , 0.        , 0.        ,\n",
       "        0.        , 0.        , 0.33333333, 0.33333333, 0.        ,\n",
       "        0.        , 0.        ],\n",
       "       [0.        , 0.        , 0.        , 0.        , 0.        ,\n",
       "        0.        , 0.        , 0.        , 0.        , 0.        ,\n",
       "        0.        , 0.        , 0.        , 0.        , 1.        ,\n",
       "        0.        , 0.        ],\n",
       "       [0.        , 0.        , 0.        , 0.        , 0.        ,\n",
       "        0.        , 0.        , 0.        , 0.        , 0.        ,\n",
       "        0.        , 0.        , 0.5       , 0.        , 0.        ,\n",
       "        0.5       , 0.        ],\n",
       "       [0.        , 0.25      , 0.25      , 0.        , 0.25      ,\n",
       "        0.        , 0.        , 0.        , 0.        , 0.        ,\n",
       "        0.        , 0.        , 0.        , 0.        , 0.        ,\n",
       "        0.        , 0.25      ]])"
      ]
     },
     "execution_count": 9,
     "metadata": {},
     "output_type": "execute_result"
    }
   ],
   "source": [
    "matrix"
   ]
  },
  {
   "cell_type": "code",
   "execution_count": 10,
   "metadata": {},
   "outputs": [],
   "source": [
    "sentences_words = summarizer.get_sentences_words(parser.document)"
   ]
  },
  {
   "cell_type": "code",
   "execution_count": 11,
   "metadata": {},
   "outputs": [],
   "source": [
    "sentences = list(map(lambda s: \" \".join(s), sentences_words))"
   ]
  },
  {
   "cell_type": "code",
   "execution_count": 12,
   "metadata": {},
   "outputs": [
    {
     "data": {
      "text/plain": [
       "['uk economi face risk',\n",
       " 'the uk manufactur sector will continu to face serious challeng over the next two year the british chamber of commerc bcc has said',\n",
       " 'the group quarter survey of compani found export had pick up in the last three month of to their best level in eight year',\n",
       " 'the rise came despit exchang rate be cite as a major concern',\n",
       " 'howev the bcc found the whole uk economi still face major risk and warn that growth is set to slow',\n",
       " 'it recent forecast econom growth will slow from more than in to a littl below in both and',\n",
       " 'manufactur domest sale growth fell back slight in the quarter the survey of firm found',\n",
       " 'employ in manufactur also fell and job expect were at their lowest level for a year',\n",
       " 'despit some posit news for the export sector there are worri sign for manufactur the bcc said',\n",
       " 'these result reinforc our concern over the sector persist inabl to sustain recoveri',\n",
       " 'the outlook for the servic sector was uncertain despit an increas in export and order over the quarter the bcc note',\n",
       " 'the bcc found confid increas in the quarter across both the manufactur and servic sector although overal it fail to reach the level at the start of',\n",
       " 'the reduc threat of interest rate increas had contribut to improv confid it said',\n",
       " 'the bank of england rais interest rate five time between novemb and august last year',\n",
       " 'but rate have been kept on hold sinc then amid sign of fall consum confid and a slowdown in output',\n",
       " 'the pressur on cost and margin the relentless increas in regul and the threat of higher tax remain serious problem bcc director general david frost said',\n",
       " 'while consum spend is set to deceler signific over the next month it is unlik that invest and export will rise suffici strong to pick up the slack']"
      ]
     },
     "execution_count": 12,
     "metadata": {},
     "output_type": "execute_result"
    }
   ],
   "source": [
    "sentences"
   ]
  },
  {
   "cell_type": "code",
   "execution_count": 13,
   "metadata": {},
   "outputs": [],
   "source": [
    "draw_matrix(matrix, image_name=\"matrix_graph\")"
   ]
  },
  {
   "cell_type": "code",
   "execution_count": null,
   "metadata": {},
   "outputs": [],
   "source": []
  }
 ],
 "metadata": {
  "kernelspec": {
   "display_name": "venv",
   "language": "python",
   "name": "python3"
  },
  "language_info": {
   "codemirror_mode": {
    "name": "ipython",
    "version": 3
   },
   "file_extension": ".py",
   "mimetype": "text/x-python",
   "name": "python",
   "nbconvert_exporter": "python",
   "pygments_lexer": "ipython3",
   "version": "3.11.3"
  },
  "orig_nbformat": 4
 },
 "nbformat": 4,
 "nbformat_minor": 2
}
